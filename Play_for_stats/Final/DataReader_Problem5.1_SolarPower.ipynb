{
 "cells": [
  {
   "cell_type": "markdown",
   "metadata": {},
   "source": [
    "# Problem 5.1: Solar Power - data reader\n",
    "\n",
    "The following is a small program to read the data file \"data_SolarPower.txt\", which contains three columns: Year, cumulative solar power capacity (in MW), and Price (USD/Watt installed)\n",
    "\n",
    "### Author & Date: \n",
    "- Troels C. Petersen (Niels Bohr Institute)\n",
    "- 20-01-2021\n",
    "\n",
    "***"
   ]
  },
  {
   "cell_type": "code",
   "execution_count": 1,
   "metadata": {},
   "outputs": [
    {
     "name": "stdout",
     "output_type": "stream",
     "text": [
      "Number of entries:  44\n",
      "  1976:        0.30   106.100\n",
      "  1977:        0.85    80.630\n",
      "  1978:        1.80    56.230\n",
      "  1979:        3.30    47.740\n",
      "  1980:        6.50    35.010\n",
      "  1981:       12.50    26.520\n",
      "  1982:       20.00    22.280\n",
      "  1983:       43.00    19.090\n",
      "  1984:       67.00    16.970\n",
      "  1985:       90.00    14.850\n",
      "  1986:      120.00    11.140\n",
      "  1987:      150.00     8.486\n",
      "  1988:      175.00     7.532\n",
      "  1989:      220.00     8.168\n",
      "  1990:      270.00     8.805\n",
      "  1991:      330.00     7.956\n",
      "  1992:      400.00     7.213\n",
      "  1993:      450.00     7.107\n",
      "  1994:      500.00     6.365\n",
      "  1995:      575.00     5.834\n",
      "  1996:      700.00     6.046\n",
      "  1997:      800.00     6.365\n",
      "  1998:      975.00     5.728\n",
      "  1999:     1250.00     5.092\n",
      "  2000:     1500.00     4.879\n",
      "  2001:     1750.00     4.773\n",
      "  2002:     2300.00     4.031\n",
      "  2003:     3000.00     3.978\n",
      "  2004:     4300.00     4.137\n",
      "  2005:     6000.00     4.243\n",
      "  2006:     8500.00     4.455\n",
      "  2007:    10300.00     4.137\n",
      "  2008:    20000.00     3.447\n",
      "  2009:    30000.00     2.386\n",
      "  2010:    40279.00     2.044\n",
      "  2011:    72034.00     1.677\n",
      "  2012:   101518.00     0.876\n",
      "  2013:   135754.00     0.696\n",
      "  2014:   171589.00     0.641\n",
      "  2015:   217341.00     0.596\n",
      "  2016:   291079.00     0.550\n",
      "  2017:   383596.00     0.462\n",
      "  2018:   480984.00     0.411\n",
      "  2019:   578553.00     0.377\n"
     ]
    }
   ],
   "source": [
    "# Read the data and print it to check it:\n",
    "import numpy as np\n",
    "\n",
    "year, capacity, price = np.loadtxt(\"data_SolarPower.txt\", skiprows=2, delimiter=\"\\t\", unpack=True)\n",
    "\n",
    "print(\"Number of entries: \", len(year))\n",
    "for i in range(len(year)) : \n",
    "    print(f\"  {int(year[i]):4d}:  {capacity[i]:10.2f}   {price[i]:7.3f}\")"
   ]
  }
 ],
 "metadata": {
  "executable": "/usr/bin/env python",
  "kernelspec": {
   "display_name": "Python 3",
   "language": "python",
   "name": "python3"
  },
  "language_info": {
   "codemirror_mode": {
    "name": "ipython",
    "version": 3
   },
   "file_extension": ".py",
   "mimetype": "text/x-python",
   "name": "python",
   "nbconvert_exporter": "python",
   "pygments_lexer": "ipython3",
   "version": "3.7.1"
  },
  "main_language": "python"
 },
 "nbformat": 4,
 "nbformat_minor": 2
}
