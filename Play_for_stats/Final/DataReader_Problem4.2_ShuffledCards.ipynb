{
 "cells": [
  {
   "cell_type": "markdown",
   "metadata": {},
   "source": [
    "# Problem 4.2: Shuffled Cards - data reader\n",
    "\n",
    "The following is a small program to read the data file \"data_ShuffledCards.txt\", which contains four columns: Number in deck, Card name, Value, and Suit.\n",
    "\n",
    "### Author & Date: \n",
    "- Troels C. Petersen (Niels Bohr Institute)\n",
    "- 20-01-2021\n",
    "\n",
    "***"
   ]
  },
  {
   "cell_type": "code",
   "execution_count": 2,
   "metadata": {},
   "outputs": [
    {
     "name": "stdout",
     "output_type": "stream",
     "text": [
      "Number of entries:  52\n",
      "   1:    13     4\n",
      "   2:     9     1\n",
      "   3:    14     2\n",
      "   4:    12     4\n",
      "   5:    11     4\n",
      "   6:     8     1\n",
      "   7:    13     2\n",
      "   8:     8     4\n",
      "   9:    10     4\n",
      "  10:     7     1\n",
      "  11:    11     2\n",
      "  12:     7     4\n",
      "  13:     9     4\n",
      "  14:     5     1\n",
      "  15:    10     2\n",
      "  16:     3     4\n",
      "  17:     6     4\n",
      "  18:     4     1\n",
      "  19:     7     2\n",
      "  20:     2     2\n",
      "  21:     5     4\n",
      "  22:     3     1\n",
      "  23:     6     2\n",
      "  24:    13     1\n",
      "  25:     4     4\n",
      "  26:     2     1\n",
      "  27:     5     2\n",
      "  28:    11     3\n",
      "  29:    14     3\n",
      "  30:     9     2\n",
      "  31:     2     4\n",
      "  32:    10     3\n",
      "  33:    14     1\n",
      "  34:     8     2\n",
      "  35:    13     3\n",
      "  36:     9     3\n",
      "  37:    12     1\n",
      "  38:     4     2\n",
      "  39:    12     3\n",
      "  40:     8     3\n",
      "  41:    10     1\n",
      "  42:     3     2\n",
      "  43:     4     3\n",
      "  44:     7     3\n",
      "  45:     6     1\n",
      "  46:    14     4\n",
      "  47:     3     3\n",
      "  48:     5     3\n",
      "  49:    12     2\n",
      "  50:     6     3\n",
      "  51:    11     1\n",
      "  52:     2     3\n"
     ]
    }
   ],
   "source": [
    "# Read the data and print it to check it:\n",
    "import numpy as np\n",
    "\n",
    "data = np.genfromtxt(\"./data_ShuffledCards.txt\", skip_header=2)\n",
    "number = data[:,0]\n",
    "value = data[:,4]\n",
    "suit = data[:,5]\n",
    "\n",
    "print(\"Number of entries: \", len(number))\n",
    "for i in range(len(number)) : \n",
    "    print(f\"  {int(number[i]):2.0f}:  {value[i]:4.0f}   {suit[i]:3.0f}\")"
   ]
  }
 ],
 "metadata": {
  "executable": "/usr/bin/env python",
  "kernelspec": {
   "display_name": "Python 3",
   "language": "python",
   "name": "python3"
  },
  "language_info": {
   "codemirror_mode": {
    "name": "ipython",
    "version": 3
   },
   "file_extension": ".py",
   "mimetype": "text/x-python",
   "name": "python",
   "nbconvert_exporter": "python",
   "pygments_lexer": "ipython3",
   "version": "3.7.1"
  },
  "main_language": "python"
 },
 "nbformat": 4,
 "nbformat_minor": 2
}
