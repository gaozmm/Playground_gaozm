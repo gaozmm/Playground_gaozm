{
 "cells": [
  {
   "cell_type": "code",
   "execution_count": 3,
   "metadata": {},
   "outputs": [],
   "source": [
    "import numpy as np\n",
    "import matplotlib.pyplot as plt\n",
    "import sys\n",
    "from iminuit import Minuit\n",
    "from scipy import stats\n",
    "import matplotlib as mpl\n",
    "sys.path.append('../External_Functions')\n",
    "from ExternalFunctions import *"
   ]
  },
  {
   "cell_type": "code",
   "execution_count": null,
   "metadata": {},
   "outputs": [],
   "source": [
    "# Text add in plot\n",
    "d = {'Ngauss':   [minuit_chi2.values['Ngauss'], minuit_chi2.errors['Ngauss']],\n",
    "     'mu':       [minuit_chi2.values['mu'], minuit_chi2.errors['mu']],\n",
    "     'sigma':       [minuit_chi2.values['sigma'], minuit_chi2.errors['sigma']],\n",
    "     'Nexp':     [minuit_chi2.values['Nexp'], minuit_chi2.errors['Nexp']],\n",
    "     'tau':         [minuit_chi2.values['tau'], minuit_chi2.errors['tau']],\n",
    "     'Chi2':     chi2_value,\n",
    "     'ndf':      Ndof_value,\n",
    "     'Prob':     Prob_value,\n",
    "    }\n",
    "\n",
    "text = nice_string_output(d, extra_spacing=2, decimals=3)\n",
    "add_text_to_ax(0.62, 0.95, text, ax, fontsize=20)\n",
    "ax.legend(loc='lower left', fontsize=18); # could also be # loc = 'upper right' e.g.\n",
    "fig.tight_layout()"
   ]
  },
  {
   "cell_type": "code",
   "execution_count": null,
   "metadata": {},
   "outputs": [],
   "source": [
    "# ROC curve optimization\n",
    "# plot signal/sqrt(noise)"
   ]
  },
  {
   "cell_type": "code",
   "execution_count": null,
   "metadata": {},
   "outputs": [],
   "source": [
    "#set mpl font\n",
    "# Set som plotting standards:\n",
    "font = {'family' : 'serif',\n",
    "        'weight' : 'normal',\n",
    "        'size'   : 18}\n",
    "mpl.rc('font', **font)"
   ]
  }
 ],
 "metadata": {
  "kernelspec": {
   "display_name": "Python 3",
   "language": "python",
   "name": "python3"
  },
  "language_info": {
   "codemirror_mode": {
    "name": "ipython",
    "version": 3
   },
   "file_extension": ".py",
   "mimetype": "text/x-python",
   "name": "python",
   "nbconvert_exporter": "python",
   "pygments_lexer": "ipython3",
   "version": "3.7.1"
  }
 },
 "nbformat": 4,
 "nbformat_minor": 4
}
