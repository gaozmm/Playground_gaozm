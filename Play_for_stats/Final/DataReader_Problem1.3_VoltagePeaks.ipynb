{
 "cells": [
  {
   "cell_type": "markdown",
   "metadata": {},
   "source": [
    "# Problem 1.3: Voltage Peaks - data reader\n",
    "\n",
    "The following is a small program to read the data file \"data_VoltagePeaks.txt\", which contains a single column: Voltage.\n",
    "\n",
    "### Author & Date: \n",
    "- Troels C. Petersen (Niels Bohr Institute)\n",
    "- 20-01-2021\n",
    "\n",
    "***"
   ]
  },
  {
   "cell_type": "code",
   "execution_count": 1,
   "metadata": {},
   "outputs": [
    {
     "name": "stdout",
     "output_type": "stream",
     "text": [
      "Number of entries:  1000000\n",
      "        1.119280\n",
      "        1.828920\n",
      "        0.797830\n",
      "        2.715827\n",
      "        1.496780\n",
      "       12.176045\n",
      "       24.154821\n",
      "        1.981145\n",
      "        0.677696\n",
      "        0.604801\n"
     ]
    }
   ],
   "source": [
    "# Read the data and print it to check it:\n",
    "import numpy as np\n",
    "voltage = np.loadtxt(\"data_VoltagePeaks.txt\")\n",
    "\n",
    "print(\"Number of entries: \", len(voltage))\n",
    "for i in range(10) : \n",
    "    print(f\"  {voltage[i]:14.6f}\")"
   ]
  }
 ],
 "metadata": {
  "executable": "/usr/bin/env python",
  "kernelspec": {
   "display_name": "Python 3",
   "language": "python",
   "name": "python3"
  },
  "language_info": {
   "codemirror_mode": {
    "name": "ipython",
    "version": 3
   },
   "file_extension": ".py",
   "mimetype": "text/x-python",
   "name": "python",
   "nbconvert_exporter": "python",
   "pygments_lexer": "ipython3",
   "version": "3.7.1"
  },
  "main_language": "python"
 },
 "nbformat": 4,
 "nbformat_minor": 2
}
