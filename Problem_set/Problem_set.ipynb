{
 "cells": [
  {
   "cell_type": "markdown",
   "metadata": {},
   "source": [
    "Problem set in Applied Statistics 2020\n",
    "=====\n",
    "Kian Gao &nbsp;&nbsp;&nbsp;&nbsp;&nbsp;SHP593\n",
    "-----\n",
    "\n",
    "---\n",
    "\n",
    "The philosophy of some problems is discussed with my group members Alicia, Timo and Jonas, at the same time the code is completely written **on my own**.\n"
   ]
  },
  {
   "cell_type": "code",
   "execution_count": 13,
   "metadata": {},
   "outputs": [],
   "source": [
    "import numpy as np\n",
    "import scipy.optimize as opt\n",
    "import matplotlib.pyplot as plt\n",
    "import scipy.stats as stats\n",
    "from sympy import *\n",
    "%matplotlib notebook\n",
    "\n",
    "r = np.random\n",
    "r.seed(1)"
   ]
  },
  {
   "cell_type": "markdown",
   "metadata": {},
   "source": [
    "**I – Distributions and probabilities:**\n",
    "\n",
    "**1.1** (4 points) Assuming the “El Clasico” football match is an even game (p = 0.5), what is the\n",
    "probability, that the score after 144 non-draw league games is exactly even?\n",
    "\n",
    "---\n",
    "\n",
    "To make it even, the number of both team's victories should be the same. Thus, we can use binomial distribution to actually calculate the probability.\n",
    "\n",
    "$$P_x = C_n^xp^{x}{(1-p)}^{n-x}$$"
   ]
  },
  {
   "cell_type": "code",
   "execution_count": 12,
   "metadata": {},
   "outputs": [
    {
     "name": "stdout",
     "output_type": "stream",
     "text": [
      "The probability of even in Barcelona verses RM is:  0.06637504645119732\n",
      "If using the scipy library, the ans is:             0.06637504645119337\n"
     ]
    }
   ],
   "source": [
    "n_match = 144\n",
    "x_match = n_match // 2\n",
    "p_match = 0.5\n",
    "\n",
    "p_match_even = spe.comb(n_match, x_match) * (p_match**x_match) * ((1-p_match) ** (n_match - x_match)) \n",
    "print('The probability of even in Barcelona verses RM is: ', p_match_even)\n",
    "print('If using the scipy library, the ans is:            ', stats.binom.pmf(x_match, n_match, p_match))  # Compare to library value"
   ]
  },
  {
   "cell_type": "markdown",
   "metadata": {},
   "source": [
    "**1.2** (4 points) Brad Pitt and Edward Norton are shooting golf balls at a window with $p_{hit} = 0.054$ chance of hitting. How many golf balls do they need to be 90% sure of hitting the window?\n",
    "\n",
    "To hit the window with $p_{hit} = 90\\%$, we need to make sure that the former shoots don't hit, means that $p_{nohit} = 10\\%$. "
   ]
  },
  {
   "cell_type": "code",
   "execution_count": 20,
   "metadata": {},
   "outputs": [
    {
     "name": "stdout",
     "output_type": "stream",
     "text": [
      "The number of golf balls they use to make sure the probability over 90% is: 40\n"
     ]
    }
   ],
   "source": [
    "p_chance_nohit = 1 - 0.054\n",
    "p_nohit = p_chance_nohit\n",
    "for n_shoot in range(50):\n",
    "    p_nohit *= p_chance_nohit\n",
    "    if p_nohit <= 0.1:\n",
    "        break\n",
    "print('The number of golf balls they use to make sure the probability over 90% is:', n_shoot)"
   ]
  },
  {
   "cell_type": "markdown",
   "metadata": {},
   "source": [
    "**II – Error propagation:**\n",
    "**2.1** (10 points) The Hubble constant h has been measured by seven independent experiments: 73.5±1.4,\n",
    "74.0 ± 1.4, 73.3 ± 1.8, 75.0 ± 2.0, 67.6 ± 0.7, 70.4 ± 1.4, and 67.66 ± 0.42 in (km/s)/Mpc.\n",
    "* What is the weighted average of h? Do the values agree with each other?\n",
    "* The first four measurements are based on a different method than the last three. Do the\n",
    "  values from the same method agree with each other?\n",
    "  \n",
    "---\n",
    "\n",
    "Answer: \n",
    "1. ???\n",
    "2. "
   ]
  },
  {
   "cell_type": "code",
   "execution_count": null,
   "metadata": {},
   "outputs": [],
   "source": []
  },
  {
   "cell_type": "code",
   "execution_count": null,
   "metadata": {},
   "outputs": [],
   "source": []
  },
  {
   "cell_type": "code",
   "execution_count": null,
   "metadata": {},
   "outputs": [],
   "source": []
  }
 ],
 "metadata": {
  "kernelspec": {
   "display_name": "Python 3",
   "language": "python",
   "name": "python3"
  },
  "language_info": {
   "codemirror_mode": {
    "name": "ipython",
    "version": 3
   },
   "file_extension": ".py",
   "mimetype": "text/x-python",
   "name": "python",
   "nbconvert_exporter": "python",
   "pygments_lexer": "ipython3",
   "version": "3.7.1"
  }
 },
 "nbformat": 4,
 "nbformat_minor": 4
}
