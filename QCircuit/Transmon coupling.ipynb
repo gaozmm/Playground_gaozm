{
 "cells": [
  {
   "cell_type": "code",
   "execution_count": 1,
   "id": "93897345",
   "metadata": {},
   "outputs": [],
   "source": [
    "from QCircuit import *\n",
    "import numpy as np\n",
    "from matplotlib import pyplot as plt\n",
    "from scipy import constants\n",
    "%matplotlib inline"
   ]
  },
  {
   "cell_type": "code",
   "execution_count": 2,
   "id": "3f6528e3",
   "metadata": {},
   "outputs": [],
   "source": [
    "sys = QCircuit()\n",
    "sys.add_element(QJosephsonJunction('Q1JJ1'), ['GND', '1'])\n",
    "sys.add_element(QJosephsonJunction('Q1JJ2'), ['1', '2'])\n",
    "sys.add_element(QCapacitance('Q1C'), ['GND', '1'])\n",
    "sys.add_element(QInductance('Q1L'), ['GND', '1'])\n",
    "\n",
    "sys.add_element(QJosephsonJunction('Q2JJ1'), ['GND', '3'])\n",
    "sys.add_element(QJosephsonJunction('Q2JJ2'), ['3', '4'])\n",
    "sys.add_element(QCapacitance('Q2C'), ['GND', '3'])\n",
    "sys.add_element(QInductance('Q2L', ['GND', '3']))\n",
    "\n",
    "sys.add_element(QCapacitance('QCC'), ['1', '3'])\n",
    "        \n",
    "phi1 = QVariable('φ1')\n",
    "phi2 = QVariable('φ2')\n",
    "phix1 = QVariable('φx1')\n",
    "phix2 = QVariable('φx2')\n",
    "\n",
    "phi1.create_grid(32, 1)\n",
    "phi2.create_grid(32, 1)\n",
    "\n",
    "sys.add_variable(phi1)\n",
    "sys.add_variable(phix1)\n",
    "sys.add_variable(phi2)\n",
    "sys.add_variable(phix2)\n",
    "\n",
    "\n",
    "sys.map_nodes_linear(['GND', '1', '2', '3', '4'], \n",
    "                       ['φ1', 'φx1', 'φ2', 'φx2'], \n",
    "                       np.asarray([[0, 0, 0, 0], \n",
    "                                   [1, 0, 0, 0], \n",
    "                                   [0, 1, 0, 0], \n",
    "                                   [0, 0, 1, 0], \n",
    "                                   [0, 0, 0, 1]]))\n",
    "\n",
    "EjEc_ratio = 80\n",
    "flux_steps = 1\n",
    "voltage_steps = 128\n",
    "\n",
    "Ej1 = 10e9\n",
    "Ej2 = 1e9\n",
    "Ec = 200e6\n",
    "Cc = Ec*10\n",
    "\n",
    "sys.find_element('Q1JJ1').set_critical_current(Ej1)\n",
    "sys.find_element('Q1JJ2').set_critical_current(Ej2)\n",
    "sys.find_element('Q1C').set_capacitance(1/(8*Ec))\n",
    "\n",
    "sys.find_element('Q2JJ1').set_critical_current(Ej1)\n",
    "sys.find_element('Q2JJ2').set_critical_current(Ej2)\n",
    "sys.find_element('Q2C').set_capacitance(1/(8*Ec))\n",
    "\n",
    "sys.find_element('QCC').set_capacitance(1/(8*Cc))\n",
    "\n",
    "phix1.set_parameter(0, 0)\n",
    "phix2.set_parameter(0, 0)\n",
    "\n",
    "sys.decompose([[phi1, phix1], [phi2, phix2]])\n",
    "\n",
    "sys.solve_subsystems(5)\n",
    "\n",
    "h = sys.interacting_subsystems_hamiltonian()"
   ]
  },
  {
   "cell_type": "code",
   "execution_count": 20,
   "id": "5694ac79",
   "metadata": {},
   "outputs": [
    {
     "name": "stdout",
     "output_type": "stream",
     "text": [
      "2.24 ms ± 151 µs per loop (mean ± std. dev. of 7 runs, 100 loops each)\n"
     ]
    }
   ],
   "source": [
    "%%timeit\n",
    "h = sys.interacting_subsystems_hamiltonian()"
   ]
  },
  {
   "cell_type": "code",
   "execution_count": 3,
   "id": "2e7d697d",
   "metadata": {},
   "outputs": [
    {
     "data": {
      "text/plain": [
       "(QCircuit with 5 nodes, 7 elements, 2 variables and 2 parameters,\n",
       " QCircuit with 5 nodes, 7 elements, 2 variables and 2 parameters)"
      ]
     },
     "execution_count": 3,
     "metadata": {},
     "output_type": "execute_result"
    }
   ],
   "source": [
    "sys.subsystems[0], sys.subsystems[1]"
   ]
  },
  {
   "cell_type": "code",
   "execution_count": 4,
   "id": "116d3d5f",
   "metadata": {},
   "outputs": [
    {
     "data": {
      "text/plain": [
       "{'φ1': array([[-7.66488128e-15-2.45791151e-31j,  1.76685885e-15-1.14151203e+00j,\n",
       "          4.84472111e-15+1.04447161e-14j, -2.65924764e-15-3.72171909e-02j,\n",
       "          9.08422915e-16+3.02595911e-16j],\n",
       "        [ 1.76685885e-15+1.14151203e+00j,  1.00339057e-14+1.33986443e-31j,\n",
       "         -7.92413954e-16-1.56933983e+00j,  1.34688541e-15-5.03239621e-15j,\n",
       "          3.45596712e-15+8.06660336e-02j],\n",
       "        [ 4.84472111e-15-1.04447161e-14j, -7.92413954e-16+1.56933983e+00j,\n",
       "         -5.39098518e-15-3.92337180e-31j, -1.17108065e-15+1.85822019e+00j,\n",
       "          8.69242806e-15-7.22807966e-15j],\n",
       "        [-2.65924764e-15+3.72171909e-02j,  1.23586311e-15+5.03239621e-15j,\n",
       "         -1.17108065e-15-1.85822019e+00j,  1.40980421e-14-1.29530029e-31j,\n",
       "          6.68815635e-15+2.05660951e+00j],\n",
       "        [ 9.08422915e-16-3.02595911e-16j,  3.45596712e-15-8.06660336e-02j,\n",
       "          8.63691691e-15+7.22807966e-15j,  6.68815635e-15-2.05660951e+00j,\n",
       "         -2.10707444e-14+2.23855099e-31j]]),\n",
       " 'φ2_imp': array([[0.+0.j, 0.+0.j, 0.+0.j, 0.+0.j, 0.+0.j],\n",
       "        [0.+0.j, 0.+0.j, 0.+0.j, 0.+0.j, 0.+0.j],\n",
       "        [0.+0.j, 0.+0.j, 0.+0.j, 0.+0.j, 0.+0.j],\n",
       "        [0.+0.j, 0.+0.j, 0.+0.j, 0.+0.j, 0.+0.j],\n",
       "        [0.+0.j, 0.+0.j, 0.+0.j, 0.+0.j, 0.+0.j]])}"
      ]
     },
     "execution_count": 4,
     "metadata": {},
     "output_type": "execute_result"
    }
   ],
   "source": [
    "sys.subsystems[0].charge_operators"
   ]
  },
  {
   "cell_type": "code",
   "execution_count": 5,
   "id": "e15ed952",
   "metadata": {},
   "outputs": [
    {
     "data": {
      "text/plain": [
       "{'φ1_imp': array([[0.+0.j, 0.+0.j, 0.+0.j, 0.+0.j, 0.+0.j],\n",
       "        [0.+0.j, 0.+0.j, 0.+0.j, 0.+0.j, 0.+0.j],\n",
       "        [0.+0.j, 0.+0.j, 0.+0.j, 0.+0.j, 0.+0.j],\n",
       "        [0.+0.j, 0.+0.j, 0.+0.j, 0.+0.j, 0.+0.j],\n",
       "        [0.+0.j, 0.+0.j, 0.+0.j, 0.+0.j, 0.+0.j]]),\n",
       " 'φ2': array([[ 1.93055311e-15+4.59479603e-33j, -5.19294078e-16-1.14151203e+00j,\n",
       "         -6.77928779e-15+2.24156497e-15j,  1.50701271e-15+3.72171909e-02j,\n",
       "          8.27629404e-16+2.64745391e-16j],\n",
       "        [-5.19294078e-16+1.14151203e+00j, -1.38011632e-14-6.75878908e-32j,\n",
       "         -5.50368514e-15-1.56933983e+00j,  7.10658201e-15-1.68558033e-14j,\n",
       "          2.98747807e-17+8.06660336e-02j],\n",
       "        [-6.75151866e-15-2.24156497e-15j, -5.50368514e-15+1.56933983e+00j,\n",
       "          1.07507049e-14+3.86069678e-31j,  6.54214488e-15-1.85822019e+00j,\n",
       "          4.19155450e-15+7.08383732e-15j],\n",
       "        [ 1.50701271e-15-3.72171909e-02j,  7.10658201e-15+1.68558033e-14j,\n",
       "          6.54214488e-15+1.85822019e+00j,  3.68787377e-15+4.17134669e-31j,\n",
       "          1.32312596e-15-2.05660951e+00j],\n",
       "        [ 8.27629404e-16-2.64745391e-16j,  2.98747807e-17-8.06660336e-02j,\n",
       "          4.13560967e-15-7.08383732e-15j,  1.32312596e-15+2.05660951e+00j,\n",
       "         -7.67222223e-15-1.90560402e-31j]])}"
      ]
     },
     "execution_count": 5,
     "metadata": {},
     "output_type": "execute_result"
    }
   ],
   "source": [
    "sys.subsystems[1].charge_operators"
   ]
  },
  {
   "cell_type": "code",
   "execution_count": 19,
   "id": "9fee19d8",
   "metadata": {},
   "outputs": [
    {
     "data": {
      "text/plain": [
       "[<matplotlib.lines.Line2D at 0x1c9b6445190>]"
      ]
     },
     "execution_count": 19,
     "metadata": {},
     "output_type": "execute_result"
    },
    {
     "data": {
      "image/png": "[encoded data removed]",
      "text/plain": [
       "<Figure size 432x288 with 1 Axes>"
      ]
     },
     "metadata": {
      "needs_background": "light"
     },
     "output_type": "display_data"
    }
   ],
   "source": [
    "plt.plot(np.real(sys.subsystems[1].wavefunctions[...,0].ravel()))\n",
    "plt.plot(np.real(sys.subsystems[1].wavefunctions[...,1].ravel()))\n",
    "plt.plot(np.real(sys.subsystems[1].wavefunctions[...,2].ravel()))\n",
    "plt.plot(np.real(sys.subsystems[1].wavefunctions[...,3].ravel()))"
   ]
  },
  {
   "cell_type": "code",
   "execution_count": 6,
   "id": "9d070c00",
   "metadata": {},
   "outputs": [
    {
     "data": {
      "text/plain": [
       "QCircuit with 5 nodes, 7 elements, 2 variables and 2 parameters"
      ]
     },
     "execution_count": 6,
     "metadata": {},
     "output_type": "execute_result"
    }
   ],
   "source": [
    "sys"
   ]
  },
  {
   "cell_type": "code",
   "execution_count": 7,
   "id": "fe63668f",
   "metadata": {},
   "outputs": [
    {
     "data": {
      "text/plain": [
       "<matplotlib.collections.QuadMesh at 0x1c9b07a8ca0>"
      ]
     },
     "execution_count": 7,
     "metadata": {},
     "output_type": "execute_result"
    },
    {
     "data": {
      "image/png": "[encoded data removed]",
      "text/plain": [
       "<Figure size 432x288 with 1 Axes>"
      ]
     },
     "metadata": {
      "needs_background": "light"
     },
     "output_type": "display_data"
    }
   ],
   "source": [
    "plt.pcolormesh(np.real(h))"
   ]
  },
  {
   "cell_type": "code",
   "execution_count": 8,
   "id": "8b1d2938",
   "metadata": {},
   "outputs": [
    {
     "data": {
      "text/plain": [
       "array([0.00000000e+00, 3.64604345e+09, 3.99390352e+09, 7.18238689e+09,\n",
       "       7.43336290e+09, 7.89005604e+09, 1.05809089e+10, 1.07236888e+10,\n",
       "       1.11597623e+10, 1.16748680e+10, 1.37624680e+10, 1.38101032e+10,\n",
       "       1.43260385e+10, 1.47572833e+10, 1.53418304e+10, 1.66688370e+10])"
      ]
     },
     "execution_count": 8,
     "metadata": {},
     "output_type": "execute_result"
    }
   ],
   "source": [
    "sys.calculate_potentials()\n",
    "e = np.real(sys.diagonalize_phase(num_states=16)[0])\n",
    "e - e[0]"
   ]
  },
  {
   "cell_type": "code",
   "execution_count": 9,
   "id": "591273c6",
   "metadata": {},
   "outputs": [
    {
     "data": {
      "text/plain": [
       "array([0.00000000e+00, 3.64604395e+09, 3.99390364e+09, 7.18242175e+09,\n",
       "       7.43340033e+09, 7.89006544e+09, 1.05812317e+10, 1.07239327e+10,\n",
       "       1.11598194e+10, 1.16749519e+10, 1.37767021e+10, 1.38252607e+10,\n",
       "       1.43285547e+10, 1.47590928e+10, 1.53426820e+10, 1.73578021e+10,\n",
       "       1.76157374e+10, 1.82157167e+10, 1.88799159e+10, 2.08003319e+10,\n",
       "       2.14096134e+10, 2.22512428e+10, 2.42475695e+10, 2.53747801e+10,\n",
       "       2.79369012e+10])"
      ]
     },
     "execution_count": 9,
     "metadata": {},
     "output_type": "execute_result"
    }
   ],
   "source": [
    "e1 = np.linalg.eigh(h)[0]\n",
    "e1 - e1[0]"
   ]
  },
  {
   "cell_type": "code",
   "execution_count": 10,
   "id": "58912dc1",
   "metadata": {},
   "outputs": [
    {
     "data": {
      "text/plain": [
       "array([[ 1.46666667e+09, -0.00000000e+00,  1.33333333e+08,\n",
       "        -0.00000000e+00],\n",
       "       [-0.00000000e+00,  0.00000000e+00, -0.00000000e+00,\n",
       "         0.00000000e+00],\n",
       "       [ 1.33333333e+08, -0.00000000e+00,  1.46666667e+09,\n",
       "        -0.00000000e+00],\n",
       "       [-0.00000000e+00,  0.00000000e+00, -0.00000000e+00,\n",
       "         0.00000000e+00]])"
      ]
     },
     "execution_count": 10,
     "metadata": {},
     "output_type": "execute_result"
    }
   ],
   "source": [
    "sys.capacitance_matrix_legendre_transform()"
   ]
  },
  {
   "cell_type": "code",
   "execution_count": 11,
   "id": "88a6afc4",
   "metadata": {},
   "outputs": [
    {
     "data": {
      "text/plain": [
       "array([[ 1.46666667e+09, -0.00000000e+00,  1.33333333e+08,\n",
       "        -0.00000000e+00],\n",
       "       [-0.00000000e+00,  0.00000000e+00, -0.00000000e+00,\n",
       "         0.00000000e+00],\n",
       "       [ 1.33333333e+08, -0.00000000e+00,  1.46666667e+09,\n",
       "        -0.00000000e+00],\n",
       "       [-0.00000000e+00,  0.00000000e+00, -0.00000000e+00,\n",
       "         0.00000000e+00]])"
      ]
     },
     "execution_count": 11,
     "metadata": {},
     "output_type": "execute_result"
    }
   ],
   "source": [
    "sys.subsystems[0].capacitance_matrix_legendre_transform()"
   ]
  },
  {
   "cell_type": "code",
   "execution_count": null,
   "id": "124c9e8c",
   "metadata": {},
   "outputs": [],
   "source": []
  }
 ],
 "metadata": {
  "kernelspec": {
   "display_name": "Python 3 (ipykernel)",
   "language": "python",
   "name": "python3"
  },
  "language_info": {
   "codemirror_mode": {
    "name": "ipython",
    "version": 3
   },
   "file_extension": ".py",
   "mimetype": "text/x-python",
   "name": "python",
   "nbconvert_exporter": "python",
   "pygments_lexer": "ipython3",
   "version": "3.9.12"
  }
 },
 "nbformat": 4,
 "nbformat_minor": 5
}
