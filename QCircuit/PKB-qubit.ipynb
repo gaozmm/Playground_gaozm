{
 "cells": [
  {
   "cell_type": "code",
   "execution_count": 4,
   "metadata": {},
   "outputs": [],
   "source": [
    "from  QCircuit import *\n",
    "import numpy as np\n",
    "import matplotlib.pyplot as plt\n",
    "import tqdm\n",
    "import sympy"
   ]
  },
  {
   "cell_type": "markdown",
   "metadata": {},
   "source": [
    "# Fancy schematic\n",
    "\"Coherence properties of the 0-π qubit\",  Peter Groszkowski, A Di Paolo, A L Grimsmo, A Blais, D I Schuster, A A Houck and Jens Koch,  New Journal of Physics, Volume 20, April 2018"
   ]
  },
  {
   "cell_type": "code",
   "execution_count": 5,
   "metadata": {},
   "outputs": [
    {
     "data": {
      "image/png": "[encoded data removed]",
      "text/plain": [
       "<Figure size 181.149x262.474 with 1 Axes>"
      ]
     },
     "metadata": {
      "needs_background": "light"
     },
     "output_type": "display_data"
    }
   ],
   "source": [
    "import SchemDraw\n",
    "from SchemDraw import elements as e\n",
    "d= SchemDraw.Drawing()\n",
    "p1 = d.add(e.DOT, label='3', lblloc='bot')\n",
    "d.add(e.JJ, label='$E_{J2}$\\n$C_{J2}$', theta=45, lblloc='bot')\n",
    "p2 = d.add(e.DOT, label='4')\n",
    "d.add(e.INDUCTOR, label='$L2$', theta=135)\n",
    "p3 = d.add(e.DOT, label='1')\n",
    "d.add(e.JJ, label='$E_{J1}$\\n$C_{J1}$', theta=225)\n",
    "p4 = d.add(e.DOT, label='2')\n",
    "d.add(e.INDUCTOR, label='$L1$', endpts=[p4.here, p1.here], lblloc='bot')\n",
    "d.add(e.CAP, endpts=[p1.here, p3.here], label='$C_2$', lblloc='bot')\n",
    "C2b = d.add(e.LINE, d='down', xy=p4.here, l=d.unit*4/3)\n",
    "C2e = d.add(e.LINE, d='down', xy=p2.here, l=d.unit*4/3)\n",
    "d.add(e.CAP, d='right', label='$C_1$', endpts=[C2b.end, C2e.end])\n",
    "d.draw()"
   ]
  },
  {
   "cell_type": "code",
   "execution_count": 93,
   "metadata": {},
   "outputs": [],
   "source": [
    "# Ground node is between L2 and 1\n",
    "PKB = QCircuit()\n",
    "PKB.add_element(QJosephsonJunction('JJ1'), [1, 2])\n",
    "PKB.add_element(QCapacitance('CJ1'), [1, 2])\n",
    "PKB.add_element(QInductance('L1'), [2, 3])\n",
    "PKB.add_element(QJosephsonJunction('JJ2'), [3, 4])\n",
    "PKB.add_element(QCapacitance('CJ2'), [3, 4])\n",
    "PKB.add_element(QInductance('L2'), [4, 'GND'])\n",
    "PKB.add_element(QCapacitance('C1'), [2, 4])\n",
    "PKB.add_element(QCapacitance('C2'), [1, 3])\n",
    "\n",
    "φ = QVariable('φ')\n",
    "θ = QVariable('θ')\n",
    "ζ = QVariable('ζ')\n",
    "φx = QVariable('φ_x')\n",
    "\n",
    "φ.create_grid(160, 12)\n",
    "θ.create_grid(32, 1, centre=np.pi/2.)\n",
    "ζ.create_grid(32, 1)\n",
    "φx.set_parameter(0,0)\n",
    "\n",
    "PKB.add_variable(φ)\n",
    "PKB.add_variable(θ)\n",
    "PKB.add_variable(ζ)\n",
    "PKB.add_variable(φx)"
   ]
  },
  {
   "cell_type": "markdown",
   "metadata": {},
   "source": [
    "Substitutions form paper:\n",
    "$$\n",
    "\\begin{pmatrix}\n",
    "    2\\varphi \\\\\n",
    "    2\\zeta \\\\\n",
    "    2\\theta \\\\\n",
    "    2\\Sigma\n",
    "\\end{pmatrix} \n",
    "=\n",
    "\\begin{pmatrix}\n",
    "    -1 & +1 & -1 & +1 \\\\\n",
    "    +1 & +1 & -1 & -1 \\\\\n",
    "    -1 & +1 & +1 & -1 \\\\\n",
    "    +1 & +1 & +1 & +1 \n",
    "\\end{pmatrix} \n",
    "\\begin{pmatrix}\n",
    "    \\varphi_1 \\\\\n",
    "    \\varphi_2 \\\\\n",
    "    \\varphi_3 \\\\\n",
    "    \\varphi_4 \\\\\n",
    "\\end{pmatrix}\n",
    "$$\n",
    "Adding extra \"ground\" node between $L_2$ and node 1; \n",
    "$$\\varphi_{1} = \\varphi_{\\mathrm{GND}} + \\varphi_x$$"
   ]
  },
  {
   "cell_type": "code",
   "execution_count": 94,
   "metadata": {},
   "outputs": [
    {
     "data": {
      "text/plain": [
       "array([[-1.,  1., -1.,  1.],\n",
       "       [ 1.,  1.,  1.,  1.],\n",
       "       [-1., -1.,  1.,  1.],\n",
       "       [ 1., -1., -1.,  1.]])"
      ]
     },
     "execution_count": 94,
     "metadata": {},
     "output_type": "execute_result"
    }
   ],
   "source": [
    "node_map = \\\n",
    "np.linalg.inv(0.5*np.asarray([[-1, +1, -1, +1],\n",
    "                              [+1, +1, -1, -1],\n",
    "                              [-1, +1, +1, -1],\n",
    "                              [+1, +1, +1, +1]]))\n",
    "node_map*2"
   ]
  },
  {
   "cell_type": "code",
   "execution_count": 95,
   "metadata": {},
   "outputs": [],
   "source": [
    "node_map = 0.5*np.asarray([[-1, +1, -1, +2], \n",
    "                           [-1, +1, -1,  0],\n",
    "                           [+1, +1, +1,  0],\n",
    "                           [-1, -1, +1,  0], \n",
    "                           [+1, -1, -1,  0]])\n",
    "PKB.map_nodes_linear(['GND', 1, 2, 3, 4], ['φ', 'ζ', 'θ', 'φ_x'], node_map)"
   ]
  },
  {
   "cell_type": "code",
   "execution_count": 96,
   "metadata": {},
   "outputs": [
    {
     "data": {
      "text/latex": [
       "$\\displaystyle - \\frac{E_{C} E_{CJ} \\partial_{θ}^{2}}{2 \\left(\\frac{E_{C}}{4} + \\frac{E_{CJ}}{4}\\right)} - 2 E_{C} \\partial_{ζ}^{2} + E_{J} \\left(1 - \\cos{\\left(θ - φ \\right)}\\right) + E_{J} \\left(1 - \\cos{\\left(θ + φ \\right)}\\right) + E_{L} \\left(ζ + φ\\right)^{2} + E_{L} \\left(- ζ + φ - φ_{x}\\right)^{2} - 2 E_{CJ} \\partial_{φ}^{2}$"
      ],
      "text/plain": [
       "-E_C*E_{CJ}*\\partial_{θ}**2/(2*(E_C/4 + E_{CJ}/4)) - 2*E_C*\\partial_{ζ}**2 + E_J*(1 - cos(θ - φ)) + E_J*(1 - cos(θ + φ)) + E_L*(ζ + φ)**2 + E_L*(-ζ + φ - φ_x)**2 - 2*E_{CJ}*\\partial_{φ}**2"
      ]
     },
     "execution_count": 96,
     "metadata": {},
     "output_type": "execute_result"
    }
   ],
   "source": [
    "E_J, E_CJ, E_L, E_C = sympy.symbols('E_J, E_{CJ}, E_L, E_C')\n",
    "\n",
    "PKB.find_element('JJ1').set_critical_current(E_J)\n",
    "PKB.find_element('JJ2').set_critical_current(E_J)\n",
    "PKB.find_element('CJ1').set_capacitance(1/(8*E_CJ))\n",
    "PKB.find_element('CJ2').set_capacitance(1/(8*E_CJ))\n",
    "PKB.find_element('L1').set_inductance(1/(2*E_L))\n",
    "PKB.find_element('L2').set_inductance(1/(2*E_L))\n",
    "PKB.find_element('C1').set_capacitance(1/(8*E_C))\n",
    "PKB.find_element('C2').set_capacitance(1/(8*E_C))\n",
    "sympy.trigsimp(sympy.nsimplify(PKB.symbolic_hamiltonian()))\n"
   ]
  },
  {
   "cell_type": "markdown",
   "metadata": {},
   "source": [
    "# Parameter set 1"
   ]
  },
  {
   "cell_type": "code",
   "execution_count": 97,
   "metadata": {},
   "outputs": [],
   "source": [
    "E_C = 0.02\n",
    "E_CJ = 20\n",
    "E_J = 10\n",
    "E_L = 0.008\n",
    "\n",
    "PKB.find_element('JJ1').set_critical_current(E_J)\n",
    "PKB.find_element('JJ2').set_critical_current(E_J)\n",
    "PKB.find_element('CJ1').set_capacitance(1/(8*E_CJ))\n",
    "PKB.find_element('CJ2').set_capacitance(1/(8*E_CJ))\n",
    "PKB.find_element('L1').set_inductance(1/(2*E_L))\n",
    "PKB.find_element('L2').set_inductance(1/(2*E_L))\n",
    "PKB.find_element('C1').set_capacitance(1/(8*E_C))\n",
    "PKB.find_element('C2').set_capacitance(1/(8*E_C))\n",
    "ζ.set_parameter(0,0)"
   ]
  },
  {
   "cell_type": "code",
   "execution_count": 98,
   "metadata": {},
   "outputs": [
    {
     "name": "stderr",
     "output_type": "stream",
     "text": [
      "<ipython-input-98-6a6b2132b12c>:3: TqdmDeprecationWarning: This function will be removed in tqdm==5.0.0\n",
      "Please use `tqdm.notebook.tqdm` instead of `tqdm.tqdm_notebook`\n",
      "  for flux_id_, flux in enumerate(tqdm.tqdm_notebook(fluxes)):\n"
     ]
    },
    {
     "data": {
      "application/vnd.jupyter.widget-view+json": {
       "model_id": "2148308fc155454f88b6bd5ef3e259c8",
       "version_major": 2,
       "version_minor": 0
      },
      "text/plain": [
       "HBox(children=(FloatProgress(value=0.0, max=27.0), HTML(value='')))"
      ]
     },
     "metadata": {},
     "output_type": "display_data"
    },
    {
     "name": "stdout",
     "output_type": "stream",
     "text": [
      "\n"
     ]
    }
   ],
   "source": [
    "eigenenergies = []\n",
    "fluxes = np.linspace(0, 2*np.pi, 27)\n",
    "for flux_id_, flux in enumerate(tqdm.tqdm_notebook(fluxes)):\n",
    "    φx.set_parameter(flux, 0)\n",
    "    PKB.calculate_potentials()\n",
    "    energies, wavefunctions = PKB.diagonalize_phase(num_states=6, maxiter=10000)\n",
    "    eigenenergies.append(energies)"
   ]
  },
  {
   "cell_type": "code",
   "execution_count": 99,
   "metadata": {},
   "outputs": [
    {
     "data": {
      "text/plain": [
       "<matplotlib.image.AxesImage at 0x1e6c2823760>"
      ]
     },
     "execution_count": 99,
     "metadata": {},
     "output_type": "execute_result"
    },
    {
     "data": {
      "image/png": "[encoded data removed]",
      "text/plain": [
       "<Figure size 432x288 with 1 Axes>"
      ]
     },
     "metadata": {
      "needs_background": "light"
     },
     "output_type": "display_data"
    }
   ],
   "source": [
    "plt.imshow(np.squeeze(PKB.phase_potential).T)"
   ]
  },
  {
   "cell_type": "code",
   "execution_count": 92,
   "metadata": {},
   "outputs": [
    {
     "data": {
      "image/png": "[encoded data removed]",
      "text/plain": [
       "<Figure size 1296x288 with 6 Axes>"
      ]
     },
     "metadata": {
      "needs_background": "light"
     },
     "output_type": "display_data"
    }
   ],
   "source": [
    "fig, axes = plt.subplots(1,6,figsize=(18,4))\n",
    "for i in range(6):\n",
    "    axes[i].imshow(np.squeeze(np.abs(wavefunctions[..., i])).T)"
   ]
  },
  {
   "cell_type": "code",
   "execution_count": 88,
   "metadata": {},
   "outputs": [
    {
     "name": "stderr",
     "output_type": "stream",
     "text": [
      "C:\\ProgramData\\Anaconda3\\envs\\py38\\lib\\site-packages\\numpy\\core\\_asarray.py:85: ComplexWarning: Casting complex values to real discards the imaginary part\n",
      "  return array(a, dtype, copy=False, order=order)\n"
     ]
    },
    {
     "data": {
      "text/plain": [
       "([<matplotlib.axis.YTick at 0x1e6c2933d60>,\n",
       "  <matplotlib.axis.YTick at 0x1e6c28fdbb0>,\n",
       "  <matplotlib.axis.YTick at 0x1e6c294c490>,\n",
       "  <matplotlib.axis.YTick at 0x1e6c2982df0>,\n",
       "  <matplotlib.axis.YTick at 0x1e6c298c3d0>,\n",
       "  <matplotlib.axis.YTick at 0x1e6c298c970>,\n",
       "  <matplotlib.axis.YTick at 0x1e6c298cf10>,\n",
       "  <matplotlib.axis.YTick at 0x1e6c29924f0>,\n",
       "  <matplotlib.axis.YTick at 0x1e6c2982fd0>,\n",
       "  <matplotlib.axis.YTick at 0x1e6c29927c0>,\n",
       "  <matplotlib.axis.YTick at 0x1e6c2992d60>],\n",
       " <a list of 11 Text yticklabel objects>)"
      ]
     },
     "execution_count": 88,
     "metadata": {},
     "output_type": "execute_result"
    },
    {
     "data": {
      "image/png": "[encoded data removed]",
      "text/plain": [
       "<Figure size 288x288 with 1 Axes>"
      ]
     },
     "metadata": {
      "needs_background": "light"
     },
     "output_type": "display_data"
    }
   ],
   "source": [
    "plt.figure(figsize=(4,4))\n",
    "plt.plot(fluxes/(2*np.pi), (np.asarray(eigenenergies).T - np.min(eigenenergies, axis=1)).T)\n",
    "plt.yticks(np.linspace(0,2, 11))"
   ]
  },
  {
   "cell_type": "code",
   "execution_count": null,
   "metadata": {
    "collapsed": true
   },
   "outputs": [],
   "source": []
  }
 ],
 "metadata": {
  "kernelspec": {
   "display_name": "Python 3",
   "language": "python",
   "name": "python3"
  },
  "language_info": {
   "codemirror_mode": {
    "name": "ipython",
    "version": 3
   },
   "file_extension": ".py",
   "mimetype": "text/x-python",
   "name": "python",
   "nbconvert_exporter": "python",
   "pygments_lexer": "ipython3",
   "version": "3.8.1"
  }
 },
 "nbformat": 4,
 "nbformat_minor": 2
}
