{
 "cells": [
  {
   "cell_type": "code",
   "execution_count": 1,
   "metadata": {},
   "outputs": [],
   "source": [
    "from QCircuit import *\n",
    "import numpy as np\n",
    "from matplotlib import pyplot as plt\n",
    "from scipy import constants\n",
    "%matplotlib inline"
   ]
  },
  {
   "cell_type": "code",
   "execution_count": 22,
   "metadata": {},
   "outputs": [
    {
     "name": "stderr",
     "output_type": "stream",
     "text": [
      "<ipython-input-22-7efaedbdc9ab>:46: ComplexWarning: Casting complex values to real discards the imaginary part\n",
      "  energies[UxE_id, :] = eigenenergies\n"
     ]
    }
   ],
   "source": [
    "FQ3JJ = QCircuit()\n",
    "FQ3JJ.add_element(QJosephsonJunction('JJ1'), ['GND', '1'])\n",
    "FQ3JJ.add_element(QJosephsonJunction('JJ2'), ['1', '2'])\n",
    "FQ3JJ.add_element(QCapacitance('C'), ['GND', '1'])\n",
    "        \n",
    "phi = QVariable('φ')\n",
    "phixH = QVariable('φxH')\n",
    "phixE = QVariable('φxE')\n",
    "#phix2 = QVariable('φx2')\n",
    "phi.create_grid(32, 1)\n",
    "FQ3JJ.add_variable(phi)\n",
    "FQ3JJ.add_variable(phixH)\n",
    "FQ3JJ.add_variable(phixE)\n",
    "#FQ3JJ.add_variable(phix2)\n",
    "#FQ3JJ.map_nodes_linear(['GND', '1', '2', '3'], \n",
    "#                       ['φ', 'φx1', 'φx2'], \n",
    "#                       np.asarray([[0,0,0],[1,0,0],[1,1,0],[1,1,1]]))\n",
    "\n",
    "FQ3JJ.map_nodes_linear(['GND', '1', '2'], \n",
    "                       ['φ', 'φxH', 'φxE'], \n",
    "                       np.asarray([[0,0,1],[1,0,0],[0,1,1]]))\n",
    "\n",
    "#EjEc_ratio = 80\n",
    "flux_steps = 1\n",
    "voltage_steps = 128\n",
    "#energies = np.zeros((flux_steps,flux_steps,2), dtype=np.float)\n",
    "energies = np.zeros((voltage_steps,4), dtype=np.float)\n",
    "\n",
    "Ej = 2e8 * 5\n",
    "#Ec = 2*1.9e-19**2/5e-15/(2*np.pi*1.054e-34)\n",
    "Ec = 2e8\n",
    "FQ3JJ.find_element('JJ1').set_critical_current(Ej)\n",
    "FQ3JJ.find_element('JJ2').set_critical_current(Ej)\n",
    "FQ3JJ.find_element('C').set_capacitance(2/Ec)\n",
    "phixH_value = np.pi*2/3\n",
    "\n",
    "for UxE_id, UxE_value in enumerate(np.linspace(-2, 2, voltage_steps)/2*Ec):\n",
    "#for phix_id, phix_value in enumerate(np.linspace(-0.5*np.pi, 0.5*np.pi, flux_steps)):\n",
    "    #for phix2_id, phix2_value in enumerate(np.linspace(-2*np.pi, 2*np.pi, flux_steps)):\n",
    "    phixH.set_parameter(phixH_value, 0)\n",
    "    phixE.set_parameter(0, UxE_value)\n",
    "        #phix2.set_parameter(phix2_value, 0)\n",
    "    FQ3JJ.calculate_potentials()\n",
    "    [eigenenergies, eigenfunctions] = FQ3JJ.diagonalize_phase(num_states=4)\n",
    "    #energies[phix1_id, phix2_id, :] = eigenenergies\n",
    "    energies[UxE_id, :] = eigenenergies\n",
    "    #print('φx1_id: {0}, φx2_id: {1}, gap: {2}'.format(phix1_id, phix2_id, eigenenergies[1]-eigenenergies[0]))"
   ]
  },
  {
   "cell_type": "code",
   "execution_count": 23,
   "metadata": {},
   "outputs": [
    {
     "data": {
      "text/plain": [
       "array([[ 1.e+08, -0.e+00,  1.e+00],\n",
       "       [-0.e+00,  0.e+00,  0.e+00],\n",
       "       [ 1.e+00,  0.e+00,  1.e-08]])"
      ]
     },
     "execution_count": 23,
     "metadata": {},
     "output_type": "execute_result"
    }
   ],
   "source": [
    "FQ3JJ.capacitance_matrix_legendre_transform()"
   ]
  },
  {
   "cell_type": "code",
   "execution_count": 26,
   "metadata": {},
   "outputs": [
    {
     "data": {
      "text/plain": [
       "[<matplotlib.lines.Line2D at 0x1e28419d3d0>]"
      ]
     },
     "execution_count": 26,
     "metadata": {},
     "output_type": "execute_result"
    },
    {
     "data": {
      "image/png": "[encoded data removed]",
      "text/plain": [
       "<Figure size 432x288 with 1 Axes>"
      ]
     },
     "metadata": {
      "needs_background": "light"
     },
     "output_type": "display_data"
    }
   ],
   "source": [
    "plt.plot((energies[:,1]-energies[:,0]))\n",
    "# plt.plot((energies[:,2]-energies[:,1]))\n",
    "# plt.plot((energies[:,3]-energies[:,2]))"
   ]
  },
  {
   "cell_type": "code",
   "execution_count": 24,
   "metadata": {},
   "outputs": [
    {
     "data": {
      "text/plain": [
       "Text(0.5, 1.0, '$E_J$ / $E_C$ = 0.1')"
      ]
     },
     "execution_count": 24,
     "metadata": {},
     "output_type": "execute_result"
    },
    {
     "data": {
      "image/png": "[encoded data removed]",
      "text/plain": [
       "<Figure size 432x288 with 1 Axes>"
      ]
     },
     "metadata": {
      "needs_background": "light"
     },
     "output_type": "display_data"
    }
   ],
   "source": [
    "energy_norm = energies\n",
    "e_01 = np.min(energies[:,1]-energies[:,0])\n",
    "energy_norm /= e_01\n",
    "plt.plot(np.arange(-2, 2, 0.0314), energy_norm - np.min(energy_norm[:,0]))\n",
    "plt.ylabel('$E_m$ / $E_{01}$', fontsize=20)\n",
    "plt.xlabel('$n_g$', fontsize=20)\n",
    "plt.xlim(0,2)\n",
    "plt.xticks([-2,-1,0,1,2], fontsize=14)\n",
    "plt.yticks(fontsize=14)\n",
    "plt.title('$E_J$ / $E_C$ = 0.1', fontsize=15)"
   ]
  },
  {
   "cell_type": "code",
   "execution_count": 32,
   "metadata": {},
   "outputs": [
    {
     "name": "stdout",
     "output_type": "stream",
     "text": [
      "[-4.   -3.95 -3.9  -3.85 -3.8  -3.75 -3.7  -3.65 -3.6  -3.55 -3.5  -3.45\n",
      " -3.4  -3.35 -3.3  -3.25 -3.2  -3.15 -3.1  -3.05 -3.   -2.95 -2.9  -2.85\n",
      " -2.8  -2.75 -2.7  -2.65 -2.6  -2.55 -2.5  -2.45 -2.4  -2.35 -2.3  -2.25\n",
      " -2.2  -2.15 -2.1  -2.05 -2.   -1.95 -1.9  -1.85 -1.8  -1.75 -1.7  -1.65\n",
      " -1.6  -1.55 -1.5  -1.45 -1.4  -1.35 -1.3  -1.25 -1.2  -1.15 -1.1  -1.05\n",
      " -1.   -0.95 -0.9  -0.85 -0.8  -0.75 -0.7  -0.65 -0.6  -0.55 -0.5  -0.45\n",
      " -0.4  -0.35 -0.3  -0.25 -0.2  -0.15 -0.1  -0.05]\n"
     ]
    }
   ],
   "source": [
    "gate = np.arange(-4, 0, 0.05)\n",
    "print(gate)\n",
    "f01 = 4 + gate"
   ]
  }
 ],
 "metadata": {
  "kernelspec": {
   "display_name": "Python 3",
   "language": "python",
   "name": "python3"
  },
  "language_info": {
   "codemirror_mode": {
    "name": "ipython",
    "version": 3
   },
   "file_extension": ".py",
   "mimetype": "text/x-python",
   "name": "python",
   "nbconvert_exporter": "python",
   "pygments_lexer": "ipython3",
   "version": "3.9.2"
  }
 },
 "nbformat": 4,
 "nbformat_minor": 1
}
