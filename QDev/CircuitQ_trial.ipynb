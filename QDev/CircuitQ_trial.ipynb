{
 "cells": [
  {
   "cell_type": "code",
   "execution_count": 1,
   "id": "sudden-frame",
   "metadata": {},
   "outputs": [],
   "source": [
    "import circuitq as cq\n",
    "import networkx as nx\n",
    "import numpy as np\n",
    "import matplotlib.pyplot as plt"
   ]
  },
  {
   "cell_type": "code",
   "execution_count": null,
   "id": "aware-pledge",
   "metadata": {},
   "outputs": [],
   "source": [
    "# import pygraphviz"
   ]
  },
  {
   "cell_type": "code",
   "execution_count": 2,
   "id": "olympic-senate",
   "metadata": {},
   "outputs": [],
   "source": [
    "# 1 junction\n",
    "graph = nx.MultiGraph()\n",
    "graph.add_edge(0,1, element = 'C')\n",
    "graph.add_edge(0,1, element = 'L')\n",
    "graph.add_edge(0,2, element = 'C')\n",
    "graph.add_edge(0,3, element = 'C')\n",
    "graph.add_edge(1,2, element = 'C')\n",
    "graph.add_edge(1,3, element = 'C')\n",
    "graph.add_edge(2,3, element = 'J')\n",
    "\n",
    "circuit = cq.CircuitQ(graph, ground_nodes=[0])"
   ]
  },
  {
   "cell_type": "code",
   "execution_count": null,
   "id": "designed-health",
   "metadata": {},
   "outputs": [],
   "source": [
    "# 2 junctions\n",
    "graph = nx.MultiGraph()\n",
    "graph.add_edge(0,1, element = 'C')\n",
    "graph.add_edge(0,1, element = 'L')\n",
    "graph.add_edge(0,2, element = 'C')\n",
    "graph.add_edge(0,4, element = 'C')\n",
    "graph.add_edge(1,2, element = 'C')\n",
    "graph.add_edge(1,4, element = 'C')\n",
    "graph.add_edge(3,4, element = 'J')\n",
    "graph.add_edge(2,3, element = 'J')\n",
    "\n",
    "circuit = cq.CircuitQ(graph, ground_nodes=[0])"
   ]
  },
  {
   "cell_type": "code",
   "execution_count": null,
   "id": "mental-pointer",
   "metadata": {
    "scrolled": true
   },
   "outputs": [],
   "source": [
    "# cq.visualize_circuit_general(graph, 'D:')"
   ]
  },
  {
   "cell_type": "code",
   "execution_count": 3,
   "id": "square-gibson",
   "metadata": {},
   "outputs": [
    {
     "data": {
      "text/latex": [
       "$\\displaystyle - E_{J230} \\cos{\\left(\\frac{- \\Phi_{2} + \\Phi_{3}}{\\Phi_{o}} \\right)} + 0.5 q_{1} \\left(\\frac{q_{1} \\left(C_{02} C_{03} + C_{02} C_{13} + C_{02} Cp_{23} + C_{03} C_{12} + C_{03} Cp_{23} + C_{12} C_{13} + C_{12} Cp_{23} + C_{13} Cp_{23}\\right)}{C_{01} C_{02} C_{03} + C_{01} C_{02} C_{13} + C_{01} C_{02} Cp_{23} + C_{01} C_{03} C_{12} + C_{01} C_{03} Cp_{23} + C_{01} C_{12} C_{13} + C_{01} C_{12} Cp_{23} + C_{01} C_{13} Cp_{23} + C_{02} C_{03} C_{12} + C_{02} C_{03} C_{13} + C_{02} C_{12} C_{13} + C_{02} C_{12} Cp_{23} + C_{02} C_{13} Cp_{23} + C_{03} C_{12} C_{13} + C_{03} C_{12} Cp_{23} + C_{03} C_{13} Cp_{23}} + \\frac{q_{2} \\left(C_{03} C_{12} + C_{12} C_{13} + C_{12} Cp_{23} + C_{13} Cp_{23}\\right)}{C_{01} C_{02} C_{03} + C_{01} C_{02} C_{13} + C_{01} C_{02} Cp_{23} + C_{01} C_{03} C_{12} + C_{01} C_{03} Cp_{23} + C_{01} C_{12} C_{13} + C_{01} C_{12} Cp_{23} + C_{01} C_{13} Cp_{23} + C_{02} C_{03} C_{12} + C_{02} C_{03} C_{13} + C_{02} C_{12} C_{13} + C_{02} C_{12} Cp_{23} + C_{02} C_{13} Cp_{23} + C_{03} C_{12} C_{13} + C_{03} C_{12} Cp_{23} + C_{03} C_{13} Cp_{23}} + \\frac{q_{3} \\left(C_{02} C_{13} + C_{12} C_{13} + C_{12} Cp_{23} + C_{13} Cp_{23}\\right)}{C_{01} C_{02} C_{03} + C_{01} C_{02} C_{13} + C_{01} C_{02} Cp_{23} + C_{01} C_{03} C_{12} + C_{01} C_{03} Cp_{23} + C_{01} C_{12} C_{13} + C_{01} C_{12} Cp_{23} + C_{01} C_{13} Cp_{23} + C_{02} C_{03} C_{12} + C_{02} C_{03} C_{13} + C_{02} C_{12} C_{13} + C_{02} C_{12} Cp_{23} + C_{02} C_{13} Cp_{23} + C_{03} C_{12} C_{13} + C_{03} C_{12} Cp_{23} + C_{03} C_{13} Cp_{23}}\\right) + 0.5 q_{2} \\left(\\frac{q_{1} \\left(C_{03} C_{12} + C_{12} C_{13} + C_{12} Cp_{23} + C_{13} Cp_{23}\\right)}{C_{01} C_{02} C_{03} + C_{01} C_{02} C_{13} + C_{01} C_{02} Cp_{23} + C_{01} C_{03} C_{12} + C_{01} C_{03} Cp_{23} + C_{01} C_{12} C_{13} + C_{01} C_{12} Cp_{23} + C_{01} C_{13} Cp_{23} + C_{02} C_{03} C_{12} + C_{02} C_{03} C_{13} + C_{02} C_{12} C_{13} + C_{02} C_{12} Cp_{23} + C_{02} C_{13} Cp_{23} + C_{03} C_{12} C_{13} + C_{03} C_{12} Cp_{23} + C_{03} C_{13} Cp_{23}} + \\frac{q_{2} \\left(C_{01} C_{03} + C_{01} C_{13} + C_{01} Cp_{23} + C_{03} C_{12} + C_{03} C_{13} + C_{12} C_{13} + C_{12} Cp_{23} + C_{13} Cp_{23}\\right)}{C_{01} C_{02} C_{03} + C_{01} C_{02} C_{13} + C_{01} C_{02} Cp_{23} + C_{01} C_{03} C_{12} + C_{01} C_{03} Cp_{23} + C_{01} C_{12} C_{13} + C_{01} C_{12} Cp_{23} + C_{01} C_{13} Cp_{23} + C_{02} C_{03} C_{12} + C_{02} C_{03} C_{13} + C_{02} C_{12} C_{13} + C_{02} C_{12} Cp_{23} + C_{02} C_{13} Cp_{23} + C_{03} C_{12} C_{13} + C_{03} C_{12} Cp_{23} + C_{03} C_{13} Cp_{23}} + \\frac{q_{3} \\left(C_{01} Cp_{23} + C_{12} C_{13} + C_{12} Cp_{23} + C_{13} Cp_{23}\\right)}{C_{01} C_{02} C_{03} + C_{01} C_{02} C_{13} + C_{01} C_{02} Cp_{23} + C_{01} C_{03} C_{12} + C_{01} C_{03} Cp_{23} + C_{01} C_{12} C_{13} + C_{01} C_{12} Cp_{23} + C_{01} C_{13} Cp_{23} + C_{02} C_{03} C_{12} + C_{02} C_{03} C_{13} + C_{02} C_{12} C_{13} + C_{02} C_{12} Cp_{23} + C_{02} C_{13} Cp_{23} + C_{03} C_{12} C_{13} + C_{03} C_{12} Cp_{23} + C_{03} C_{13} Cp_{23}}\\right) + 0.5 q_{3} \\left(\\frac{q_{1} \\left(C_{02} C_{13} + C_{12} C_{13} + C_{12} Cp_{23} + C_{13} Cp_{23}\\right)}{C_{01} C_{02} C_{03} + C_{01} C_{02} C_{13} + C_{01} C_{02} Cp_{23} + C_{01} C_{03} C_{12} + C_{01} C_{03} Cp_{23} + C_{01} C_{12} C_{13} + C_{01} C_{12} Cp_{23} + C_{01} C_{13} Cp_{23} + C_{02} C_{03} C_{12} + C_{02} C_{03} C_{13} + C_{02} C_{12} C_{13} + C_{02} C_{12} Cp_{23} + C_{02} C_{13} Cp_{23} + C_{03} C_{12} C_{13} + C_{03} C_{12} Cp_{23} + C_{03} C_{13} Cp_{23}} + \\frac{q_{2} \\left(C_{01} Cp_{23} + C_{12} C_{13} + C_{12} Cp_{23} + C_{13} Cp_{23}\\right)}{C_{01} C_{02} C_{03} + C_{01} C_{02} C_{13} + C_{01} C_{02} Cp_{23} + C_{01} C_{03} C_{12} + C_{01} C_{03} Cp_{23} + C_{01} C_{12} C_{13} + C_{01} C_{12} Cp_{23} + C_{01} C_{13} Cp_{23} + C_{02} C_{03} C_{12} + C_{02} C_{03} C_{13} + C_{02} C_{12} C_{13} + C_{02} C_{12} Cp_{23} + C_{02} C_{13} Cp_{23} + C_{03} C_{12} C_{13} + C_{03} C_{12} Cp_{23} + C_{03} C_{13} Cp_{23}} + \\frac{q_{3} \\left(C_{01} C_{02} + C_{01} C_{12} + C_{01} Cp_{23} + C_{02} C_{12} + C_{02} C_{13} + C_{12} C_{13} + C_{12} Cp_{23} + C_{13} Cp_{23}\\right)}{C_{01} C_{02} C_{03} + C_{01} C_{02} C_{13} + C_{01} C_{02} Cp_{23} + C_{01} C_{03} C_{12} + C_{01} C_{03} Cp_{23} + C_{01} C_{12} C_{13} + C_{01} C_{12} Cp_{23} + C_{01} C_{13} Cp_{23} + C_{02} C_{03} C_{12} + C_{02} C_{03} C_{13} + C_{02} C_{12} C_{13} + C_{02} C_{12} Cp_{23} + C_{02} C_{13} Cp_{23} + C_{03} C_{12} C_{13} + C_{03} C_{12} Cp_{23} + C_{03} C_{13} Cp_{23}}\\right) + \\frac{\\Phi_{1}^{2}}{2 L_{010}}$"
      ],
      "text/plain": [
       "-E_{J230}*cos((-\\Phi_{2} + \\Phi_{3})/\\Phi_{o}) + 0.5*q_{1}*(q_{1}*(C_{02}*C_{03} + C_{02}*C_{13} + C_{02}*Cp_{23} + C_{03}*C_{12} + C_{03}*Cp_{23} + C_{12}*C_{13} + C_{12}*Cp_{23} + C_{13}*Cp_{23})/(C_{01}*C_{02}*C_{03} + C_{01}*C_{02}*C_{13} + C_{01}*C_{02}*Cp_{23} + C_{01}*C_{03}*C_{12} + C_{01}*C_{03}*Cp_{23} + C_{01}*C_{12}*C_{13} + C_{01}*C_{12}*Cp_{23} + C_{01}*C_{13}*Cp_{23} + C_{02}*C_{03}*C_{12} + C_{02}*C_{03}*C_{13} + C_{02}*C_{12}*C_{13} + C_{02}*C_{12}*Cp_{23} + C_{02}*C_{13}*Cp_{23} + C_{03}*C_{12}*C_{13} + C_{03}*C_{12}*Cp_{23} + C_{03}*C_{13}*Cp_{23}) + q_{2}*(C_{03}*C_{12} + C_{12}*C_{13} + C_{12}*Cp_{23} + C_{13}*Cp_{23})/(C_{01}*C_{02}*C_{03} + C_{01}*C_{02}*C_{13} + C_{01}*C_{02}*Cp_{23} + C_{01}*C_{03}*C_{12} + C_{01}*C_{03}*Cp_{23} + C_{01}*C_{12}*C_{13} + C_{01}*C_{12}*Cp_{23} + C_{01}*C_{13}*Cp_{23} + C_{02}*C_{03}*C_{12} + C_{02}*C_{03}*C_{13} + C_{02}*C_{12}*C_{13} + C_{02}*C_{12}*Cp_{23} + C_{02}*C_{13}*Cp_{23} + C_{03}*C_{12}*C_{13} + C_{03}*C_{12}*Cp_{23} + C_{03}*C_{13}*Cp_{23}) + q_{3}*(C_{02}*C_{13} + C_{12}*C_{13} + C_{12}*Cp_{23} + C_{13}*Cp_{23})/(C_{01}*C_{02}*C_{03} + C_{01}*C_{02}*C_{13} + C_{01}*C_{02}*Cp_{23} + C_{01}*C_{03}*C_{12} + C_{01}*C_{03}*Cp_{23} + C_{01}*C_{12}*C_{13} + C_{01}*C_{12}*Cp_{23} + C_{01}*C_{13}*Cp_{23} + C_{02}*C_{03}*C_{12} + C_{02}*C_{03}*C_{13} + C_{02}*C_{12}*C_{13} + C_{02}*C_{12}*Cp_{23} + C_{02}*C_{13}*Cp_{23} + C_{03}*C_{12}*C_{13} + C_{03}*C_{12}*Cp_{23} + C_{03}*C_{13}*Cp_{23})) + 0.5*q_{2}*(q_{1}*(C_{03}*C_{12} + C_{12}*C_{13} + C_{12}*Cp_{23} + C_{13}*Cp_{23})/(C_{01}*C_{02}*C_{03} + C_{01}*C_{02}*C_{13} + C_{01}*C_{02}*Cp_{23} + C_{01}*C_{03}*C_{12} + C_{01}*C_{03}*Cp_{23} + C_{01}*C_{12}*C_{13} + C_{01}*C_{12}*Cp_{23} + C_{01}*C_{13}*Cp_{23} + C_{02}*C_{03}*C_{12} + C_{02}*C_{03}*C_{13} + C_{02}*C_{12}*C_{13} + C_{02}*C_{12}*Cp_{23} + C_{02}*C_{13}*Cp_{23} + C_{03}*C_{12}*C_{13} + C_{03}*C_{12}*Cp_{23} + C_{03}*C_{13}*Cp_{23}) + q_{2}*(C_{01}*C_{03} + C_{01}*C_{13} + C_{01}*Cp_{23} + C_{03}*C_{12} + C_{03}*C_{13} + C_{12}*C_{13} + C_{12}*Cp_{23} + C_{13}*Cp_{23})/(C_{01}*C_{02}*C_{03} + C_{01}*C_{02}*C_{13} + C_{01}*C_{02}*Cp_{23} + C_{01}*C_{03}*C_{12} + C_{01}*C_{03}*Cp_{23} + C_{01}*C_{12}*C_{13} + C_{01}*C_{12}*Cp_{23} + C_{01}*C_{13}*Cp_{23} + C_{02}*C_{03}*C_{12} + C_{02}*C_{03}*C_{13} + C_{02}*C_{12}*C_{13} + C_{02}*C_{12}*Cp_{23} + C_{02}*C_{13}*Cp_{23} + C_{03}*C_{12}*C_{13} + C_{03}*C_{12}*Cp_{23} + C_{03}*C_{13}*Cp_{23}) + q_{3}*(C_{01}*Cp_{23} + C_{12}*C_{13} + C_{12}*Cp_{23} + C_{13}*Cp_{23})/(C_{01}*C_{02}*C_{03} + C_{01}*C_{02}*C_{13} + C_{01}*C_{02}*Cp_{23} + C_{01}*C_{03}*C_{12} + C_{01}*C_{03}*Cp_{23} + C_{01}*C_{12}*C_{13} + C_{01}*C_{12}*Cp_{23} + C_{01}*C_{13}*Cp_{23} + C_{02}*C_{03}*C_{12} + C_{02}*C_{03}*C_{13} + C_{02}*C_{12}*C_{13} + C_{02}*C_{12}*Cp_{23} + C_{02}*C_{13}*Cp_{23} + C_{03}*C_{12}*C_{13} + C_{03}*C_{12}*Cp_{23} + C_{03}*C_{13}*Cp_{23})) + 0.5*q_{3}*(q_{1}*(C_{02}*C_{13} + C_{12}*C_{13} + C_{12}*Cp_{23} + C_{13}*Cp_{23})/(C_{01}*C_{02}*C_{03} + C_{01}*C_{02}*C_{13} + C_{01}*C_{02}*Cp_{23} + C_{01}*C_{03}*C_{12} + C_{01}*C_{03}*Cp_{23} + C_{01}*C_{12}*C_{13} + C_{01}*C_{12}*Cp_{23} + C_{01}*C_{13}*Cp_{23} + C_{02}*C_{03}*C_{12} + C_{02}*C_{03}*C_{13} + C_{02}*C_{12}*C_{13} + C_{02}*C_{12}*Cp_{23} + C_{02}*C_{13}*Cp_{23} + C_{03}*C_{12}*C_{13} + C_{03}*C_{12}*Cp_{23} + C_{03}*C_{13}*Cp_{23}) + q_{2}*(C_{01}*Cp_{23} + C_{12}*C_{13} + C_{12}*Cp_{23} + C_{13}*Cp_{23})/(C_{01}*C_{02}*C_{03} + C_{01}*C_{02}*C_{13} + C_{01}*C_{02}*Cp_{23} + C_{01}*C_{03}*C_{12} + C_{01}*C_{03}*Cp_{23} + C_{01}*C_{12}*C_{13} + C_{01}*C_{12}*Cp_{23} + C_{01}*C_{13}*Cp_{23} + C_{02}*C_{03}*C_{12} + C_{02}*C_{03}*C_{13} + C_{02}*C_{12}*C_{13} + C_{02}*C_{12}*Cp_{23} + C_{02}*C_{13}*Cp_{23} + C_{03}*C_{12}*C_{13} + C_{03}*C_{12}*Cp_{23} + C_{03}*C_{13}*Cp_{23}) + q_{3}*(C_{01}*C_{02} + C_{01}*C_{12} + C_{01}*Cp_{23} + C_{02}*C_{12} + C_{02}*C_{13} + C_{12}*C_{13} + C_{12}*Cp_{23} + C_{13}*Cp_{23})/(C_{01}*C_{02}*C_{03} + C_{01}*C_{02}*C_{13} + C_{01}*C_{02}*Cp_{23} + C_{01}*C_{03}*C_{12} + C_{01}*C_{03}*Cp_{23} + C_{01}*C_{12}*C_{13} + C_{01}*C_{12}*Cp_{23} + C_{01}*C_{13}*Cp_{23} + C_{02}*C_{03}*C_{12} + C_{02}*C_{03}*C_{13} + C_{02}*C_{12}*C_{13} + C_{02}*C_{12}*Cp_{23} + C_{02}*C_{13}*Cp_{23} + C_{03}*C_{12}*C_{13} + C_{03}*C_{12}*Cp_{23} + C_{03}*C_{13}*Cp_{23})) + \\Phi_{1}**2/(2*L_{010})"
      ]
     },
     "execution_count": 3,
     "metadata": {},
     "output_type": "execute_result"
    }
   ],
   "source": [
    "circuit.h"
   ]
  },
  {
   "cell_type": "code",
   "execution_count": null,
   "id": "exterior-popularity",
   "metadata": {
    "scrolled": true
   },
   "outputs": [],
   "source": [
    "np.pi*circuit.phi_0  # Half of flux quantum"
   ]
  },
  {
   "cell_type": "code",
   "execution_count": 4,
   "id": "formed-quest",
   "metadata": {},
   "outputs": [],
   "source": [
    "Ej = 1.3252140000000002e-23\n",
    "Ec = 1.353706101e-25\n",
    "phi_ext = np.pi*circuit.phi_0"
   ]
  },
  {
   "cell_type": "code",
   "execution_count": 5,
   "id": "humanitarian-local",
   "metadata": {},
   "outputs": [
    {
     "data": {
      "text/plain": [
       "[2, 3]"
      ]
     },
     "execution_count": 5,
     "metadata": {},
     "output_type": "execute_result"
    }
   ],
   "source": [
    "circuit.charge_basis_nodes"
   ]
  },
  {
   "cell_type": "code",
   "execution_count": 18,
   "id": "cutting-liver",
   "metadata": {
    "scrolled": true
   },
   "outputs": [],
   "source": [
    "dim = 30\n",
    "h_num = circuit.get_numerical_hamiltonian(60)\n",
    "eigv, eigs = circuit.get_eigensystem()\n",
    "# circuit.transform_charge_to_flux()\n",
    "eigs = circuit.estates_in_phi_basis"
   ]
  },
  {
   "cell_type": "code",
   "execution_count": 13,
   "id": "young-laser",
   "metadata": {},
   "outputs": [
    {
     "data": {
      "image/png": "[encoded data removed]",
      "text/plain": [
       "<Figure size 432x288 with 2 Axes>"
      ]
     },
     "metadata": {
      "needs_background": "light"
     },
     "output_type": "display_data"
    }
   ],
   "source": [
    "def potential(phi_1, phi_2):\n",
    "    return (-Ej*np.cos(phi_1/circuit.phi_0) + phi_2**2/(2*circuit.c_v['L']))\n",
    "phis = np.linspace(-4*np.pi*circuit.phi_0, 4*np.pi*circuit.phi_0, dim)\n",
    "h = 6.62607015e-34\n",
    "y_scaling = 1/(h *1e9)\n",
    "potential_list = [potential(phi_1,phi_2)*y_scaling for phi_2 in phis for phi_1 in phis]\n",
    "plt.contourf(phis, phis, np.array(potential_list).reshape(dim,dim))\n",
    "plt.xticks(np.linspace(-4*np.pi, 4*np.pi, 5)*circuit.phi_0 ,\n",
    "           [r'$-4\\pi$',r'$-2\\pi$',r'$0$',r'$2\\pi$',r'$4\\pi$'])\n",
    "plt.yticks(np.linspace(-4*np.pi, 4*np.pi, 5)*circuit.phi_0 ,\n",
    "           [r'$-4\\pi$',r'$-2\\pi$',r'$0$',r'$2\\pi$',r'$4\\pi$'])\n",
    "plt.xlabel(r\"$\\Phi_1 / \\Phi_o$\")\n",
    "plt.ylabel(r\"$\\Phi_2 / \\Phi_o$\")\n",
    "plt.colorbar(label=\"Potential Energy in GHz$\\cdot$h\")\n",
    "plt.show()"
   ]
  },
  {
   "cell_type": "code",
   "execution_count": 19,
   "id": "indie-nudist",
   "metadata": {},
   "outputs": [
    {
     "ename": "MemoryError",
     "evalue": "Unable to allocate 768. GiB for an array with shape (226981, 226981) and data type complex128",
     "output_type": "error",
     "traceback": [
      "\u001b[1;31m---------------------------------------------------------------------------\u001b[0m",
      "\u001b[1;31mMemoryError\u001b[0m                               Traceback (most recent call last)",
      "\u001b[1;32m<ipython-input-19-9acef908eb8c>\u001b[0m in \u001b[0;36m<module>\u001b[1;34m\u001b[0m\n\u001b[1;32m----> 1\u001b[1;33m \u001b[0mcircuit\u001b[0m\u001b[1;33m.\u001b[0m\u001b[0mtransform_charge_to_flux\u001b[0m\u001b[1;33m(\u001b[0m\u001b[1;33m)\u001b[0m\u001b[1;33m\u001b[0m\u001b[1;33m\u001b[0m\u001b[0m\n\u001b[0m",
      "\u001b[1;32mc:\\users\\gao_z\\appdata\\local\\programs\\python\\python39\\lib\\site-packages\\circuitq\\core.py\u001b[0m in \u001b[0;36mtransform_charge_to_flux\u001b[1;34m(self)\u001b[0m\n\u001b[0;32m   1088\u001b[0m         \u001b[1;31m# =============================================================================\u001b[0m\u001b[1;33m\u001b[0m\u001b[1;33m\u001b[0m\u001b[1;33m\u001b[0m\u001b[0m\n\u001b[0;32m   1089\u001b[0m         \u001b[0mlength\u001b[0m \u001b[1;33m=\u001b[0m \u001b[0mlen\u001b[0m\u001b[1;33m(\u001b[0m\u001b[0mself\u001b[0m\u001b[1;33m.\u001b[0m\u001b[0mestates\u001b[0m\u001b[1;33m[\u001b[0m\u001b[1;33m:\u001b[0m\u001b[1;33m,\u001b[0m\u001b[1;36m0\u001b[0m\u001b[1;33m]\u001b[0m\u001b[1;33m)\u001b[0m\u001b[1;33m\u001b[0m\u001b[1;33m\u001b[0m\u001b[0m\n\u001b[1;32m-> 1090\u001b[1;33m         \u001b[0mT\u001b[0m \u001b[1;33m=\u001b[0m \u001b[0mnp\u001b[0m\u001b[1;33m.\u001b[0m\u001b[0mones\u001b[0m\u001b[1;33m(\u001b[0m\u001b[1;33m(\u001b[0m\u001b[0mlength\u001b[0m\u001b[1;33m,\u001b[0m \u001b[0mlength\u001b[0m\u001b[1;33m)\u001b[0m\u001b[1;33m,\u001b[0m \u001b[0mdtype\u001b[0m\u001b[1;33m=\u001b[0m\u001b[0mnp\u001b[0m\u001b[1;33m.\u001b[0m\u001b[0mcomplex\u001b[0m\u001b[1;33m)\u001b[0m\u001b[1;33m\u001b[0m\u001b[1;33m\u001b[0m\u001b[0m\n\u001b[0m\u001b[0;32m   1091\u001b[0m         \u001b[1;32mfor\u001b[0m \u001b[0mi\u001b[0m \u001b[1;32min\u001b[0m \u001b[0mrange\u001b[0m\u001b[1;33m(\u001b[0m\u001b[0mlength\u001b[0m\u001b[1;33m)\u001b[0m\u001b[1;33m:\u001b[0m\u001b[1;33m\u001b[0m\u001b[1;33m\u001b[0m\u001b[0m\n\u001b[0;32m   1092\u001b[0m             \u001b[1;32mfor\u001b[0m \u001b[0mj\u001b[0m \u001b[1;32min\u001b[0m \u001b[0mrange\u001b[0m\u001b[1;33m(\u001b[0m\u001b[0mlength\u001b[0m\u001b[1;33m)\u001b[0m\u001b[1;33m:\u001b[0m\u001b[1;33m\u001b[0m\u001b[1;33m\u001b[0m\u001b[0m\n",
      "\u001b[1;32mc:\\users\\gao_z\\appdata\\local\\programs\\python\\python39\\lib\\site-packages\\numpy\\core\\numeric.py\u001b[0m in \u001b[0;36mones\u001b[1;34m(shape, dtype, order)\u001b[0m\n\u001b[0;32m    190\u001b[0m \u001b[1;33m\u001b[0m\u001b[0m\n\u001b[0;32m    191\u001b[0m     \"\"\"\n\u001b[1;32m--> 192\u001b[1;33m     \u001b[0ma\u001b[0m \u001b[1;33m=\u001b[0m \u001b[0mempty\u001b[0m\u001b[1;33m(\u001b[0m\u001b[0mshape\u001b[0m\u001b[1;33m,\u001b[0m \u001b[0mdtype\u001b[0m\u001b[1;33m,\u001b[0m \u001b[0morder\u001b[0m\u001b[1;33m)\u001b[0m\u001b[1;33m\u001b[0m\u001b[1;33m\u001b[0m\u001b[0m\n\u001b[0m\u001b[0;32m    193\u001b[0m     \u001b[0mmultiarray\u001b[0m\u001b[1;33m.\u001b[0m\u001b[0mcopyto\u001b[0m\u001b[1;33m(\u001b[0m\u001b[0ma\u001b[0m\u001b[1;33m,\u001b[0m \u001b[1;36m1\u001b[0m\u001b[1;33m,\u001b[0m \u001b[0mcasting\u001b[0m\u001b[1;33m=\u001b[0m\u001b[1;34m'unsafe'\u001b[0m\u001b[1;33m)\u001b[0m\u001b[1;33m\u001b[0m\u001b[1;33m\u001b[0m\u001b[0m\n\u001b[0;32m    194\u001b[0m     \u001b[1;32mreturn\u001b[0m \u001b[0ma\u001b[0m\u001b[1;33m\u001b[0m\u001b[1;33m\u001b[0m\u001b[0m\n",
      "\u001b[1;31mMemoryError\u001b[0m: Unable to allocate 768. GiB for an array with shape (226981, 226981) and data type complex128"
     ]
    }
   ],
   "source": [
    "circuit.transform_charge_to_flux()"
   ]
  },
  {
   "cell_type": "code",
   "execution_count": 15,
   "id": "defensive-monster",
   "metadata": {},
   "outputs": [
    {
     "ename": "IndexError",
     "evalue": "list index out of range",
     "output_type": "error",
     "traceback": [
      "\u001b[1;31m---------------------------------------------------------------------------\u001b[0m",
      "\u001b[1;31mIndexError\u001b[0m                                Traceback (most recent call last)",
      "\u001b[1;32m<ipython-input-15-cba487766fc6>\u001b[0m in \u001b[0;36m<module>\u001b[1;34m\u001b[0m\n\u001b[0;32m      3\u001b[0m     \u001b[0mplt\u001b[0m\u001b[1;33m.\u001b[0m\u001b[0msubplot\u001b[0m\u001b[1;33m(\u001b[0m\u001b[1;36m5\u001b[0m\u001b[1;33m,\u001b[0m\u001b[1;36m2\u001b[0m\u001b[1;33m,\u001b[0m \u001b[0mn\u001b[0m\u001b[1;33m+\u001b[0m\u001b[1;36m1\u001b[0m\u001b[1;33m)\u001b[0m\u001b[1;33m\u001b[0m\u001b[1;33m\u001b[0m\u001b[0m\n\u001b[0;32m      4\u001b[0m     plt.contourf(circuit.flux_list, circuit.flux_list,\n\u001b[1;32m----> 5\u001b[1;33m         abs(np.array(eigs[n].reshape(circuit.n_dim,circuit.n_dim)).transpose())**2)\n\u001b[0m\u001b[0;32m      6\u001b[0m     \u001b[0mplt\u001b[0m\u001b[1;33m.\u001b[0m\u001b[0mcolorbar\u001b[0m\u001b[1;33m(\u001b[0m\u001b[1;33m)\u001b[0m\u001b[1;33m\u001b[0m\u001b[1;33m\u001b[0m\u001b[0m\n\u001b[0;32m      7\u001b[0m     \u001b[0mplt\u001b[0m\u001b[1;33m.\u001b[0m\u001b[0mtitle\u001b[0m\u001b[1;33m(\u001b[0m\u001b[1;34m\"Eigenstate \"\u001b[0m \u001b[1;33m+\u001b[0m \u001b[0mstr\u001b[0m\u001b[1;33m(\u001b[0m\u001b[0mn\u001b[0m\u001b[1;33m)\u001b[0m \u001b[1;33m)\u001b[0m\u001b[1;33m\u001b[0m\u001b[1;33m\u001b[0m\u001b[0m\n",
      "\u001b[1;31mIndexError\u001b[0m: list index out of range"
     ]
    },
    {
     "data": {
      "image/png": "[encoded data removed]",
      "text/plain": [
       "<Figure size 936x2160 with 1 Axes>"
      ]
     },
     "metadata": {
      "needs_background": "light"
     },
     "output_type": "display_data"
    }
   ],
   "source": [
    "plt.figure(figsize=(13,30))\n",
    "for n in range(10):\n",
    "    plt.subplot(5,2, n+1)\n",
    "    plt.contourf(circuit.flux_list, circuit.flux_list,\n",
    "        abs(np.array(eigs[n].reshape(circuit.n_dim,circuit.n_dim)).transpose())**2)\n",
    "    plt.colorbar()\n",
    "    plt.title(\"Eigenstate \" + str(n) )\n",
    "    plt.xticks(np.linspace(-4*np.pi, 4*np.pi, 5)*circuit.phi_0 ,\n",
    "               [r'$-4\\pi$',r'$-2\\pi$',r'$0$',r'$2\\pi$',r'$4\\pi$'])\n",
    "    plt.yticks(np.linspace(-4*np.pi, 4*np.pi, 5)*circuit.phi_0 ,\n",
    "               [r'$-4\\pi$',r'$-2\\pi$',r'$0$',r'$2\\pi$',r'$4\\pi$'])\n",
    "    plt.xlabel(r\"$\\Phi_1 / \\Phi_o$\")\n",
    "    plt.ylabel(r\"$\\Phi_2 / \\Phi_o$\")\n",
    "plt.show()"
   ]
  }
 ],
 "metadata": {
  "kernelspec": {
   "display_name": "Python 3",
   "language": "python",
   "name": "python3"
  },
  "language_info": {
   "codemirror_mode": {
    "name": "ipython",
    "version": 3
   },
   "file_extension": ".py",
   "mimetype": "text/x-python",
   "name": "python",
   "nbconvert_exporter": "python",
   "pygments_lexer": "ipython3",
   "version": "3.9.2"
  }
 },
 "nbformat": 4,
 "nbformat_minor": 5
}
